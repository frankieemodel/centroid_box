{
 "cells": [
  {
   "cell_type": "code",
   "execution_count": 1,
   "metadata": {},
   "outputs": [],
   "source": [
    "\n",
    "import xarray as xr\n",
    "import numpy as np\n",
    "import datetime as dt\n",
    "import datetime_tools as dtools\n",
    "import month_indices as mi\n",
    "import findlatlonbox as findbox\n",
    "import data_extend \n",
    "from select_times import select_times\n",
    "from data_from_dates import data_from_dates\n",
    "from box_data import box_data\n",
    "from single_list import single_list\n",
    "from box_coords import box_coords"
   ]
  },
  {
   "cell_type": "code",
   "execution_count": 2,
   "metadata": {},
   "outputs": [],
   "source": [
    "# user generated dependencies (included in folder) are:\n",
    "    # new datetime_tools.py\n",
    "    # new month_indices.py functions\n",
    "    # findlatlon.py\n",
    "    # findlatlonbox.py\n",
    "    # select_times.py\n",
    "    # data_extend.py\n",
    "    # data_from_dates.py\n",
    "    # box_data.py\n",
    "    # single_list.py\n",
    "\n",
    "# uses block_centroids_NH_array.nc and yearly block data \n",
    "# with title format: \"all_blocks_2by2pt5_v2_era5_2001.nc\""
   ]
  },
  {
   "cell_type": "code",
   "execution_count": 3,
   "metadata": {},
   "outputs": [],
   "source": [
    "# CHOICES\n",
    "\n",
    "# choose how far to extend box on each side (def = 15)\n",
    "sz = 15\n",
    "\n",
    "# right now, using generic lat/lon as input for box coordinate retrieval\n",
    "# make generic lat/lon\n",
    "latg = np.arange(-89.5,90.5)\n",
    "long = np.arange(0.5,360.5)\n",
    "\n",
    "# filepaths\n",
    "# centroid path\n",
    "cpath = '/Volumes/T7/Data/block-centroids/'\n",
    "# NH file name\n",
    "fname = 'Block_centroids_CORRECTED_NH_array.nc'\n",
    "\n",
    "# datafile paths - MUST include year as {year} for fxn to work\n",
    "# block path\n",
    "# fpath = '/Volumes/T7/Data/all_blocks_2by2pt5_v2_era5_{year}.nc'\n",
    "# cloud data plath (anomalies)\n",
    "fpath = '/Volumes/T7/yearly_cloud_data_anom/{year}/anom_CERES_{year}_cldfrac.nc'\n",
    "\n",
    "# choose path to save figures \n",
    "svpath = 'figures/'\n",
    "\n"
   ]
  },
  {
   "cell_type": "code",
   "execution_count": 4,
   "metadata": {},
   "outputs": [
    {
     "name": "stdout",
     "output_type": "stream",
     "text": [
      "5496\n"
     ]
    }
   ],
   "source": [
    "# DATES\n",
    "# open centroid file\n",
    "ds = xr.open_dataset(cpath + fname)\n",
    "dates = ds.dateindex.values\n",
    "\n",
    "# use fxn I made to put dates in one list and get rid of nans\n",
    "dates = single_list(dates)\n",
    "\n",
    "# get dates assuming date units are \"Days since Jan 1 1980\"\n",
    "start_date = dt.datetime(1980,1,1)\n",
    "# using function I created\n",
    "drange = dtools.give_enddate(start_date, dates)\n",
    "\n",
    "# get index of first centroid in 2001 (only cloud data starting in 2001) \n",
    "st = select_times(drange, 2001)[0]\n",
    "print(st)\n",
    "\n",
    "# keep only dates from 2001\n",
    "drange = drange[st:]\n",
    "\n"
   ]
  },
  {
   "cell_type": "code",
   "execution_count": 5,
   "metadata": {},
   "outputs": [
    {
     "name": "stdout",
     "output_type": "stream",
     "text": [
      "(5250, 180, 360)\n"
     ]
    }
   ],
   "source": [
    "# use cloud data (fpath) and drange to get an array of the cloud data on dates\n",
    "# in drange!\n",
    "sel_data = data_from_dates(drange,fpath)\n",
    "print(sel_data.shape)"
   ]
  },
  {
   "cell_type": "code",
   "execution_count": 6,
   "metadata": {},
   "outputs": [
    {
     "name": "stdout",
     "output_type": "stream",
     "text": [
      "(5250, 2)\n"
     ]
    }
   ],
   "source": [
    "# get centroid lat/lons and combine into one array\n",
    "lonv = ds.clon.values\n",
    "latv = ds.clat.values\n",
    "# put all lats & lons in one long list without nans:\n",
    "# and keep only ones 2001 and after\n",
    "lats,lons = [single_list(x)[st:] for x in [latv,lonv]]\n",
    "# stack them so you've got a 2d array of dims: len(lats),2\n",
    "cents = np.stack((lats,lons),1)\n",
    "print(cents.shape)\n",
    "\n"
   ]
  },
  {
   "cell_type": "code",
   "execution_count": 7,
   "metadata": {},
   "outputs": [
    {
     "name": "stdout",
     "output_type": "stream",
     "text": [
      "(5250, 4)\n"
     ]
    }
   ],
   "source": [
    "# BOX CORNER RETRIEVAL - using generic latg/long created at start\n",
    "# using function I wrote, output is list of arrays\n",
    "# [south index, north index, west index, east index]\n",
    "corners,latext,lonext = findbox.corners(latg,long,cents,sz)\n",
    "print(corners.shape)"
   ]
  },
  {
   "cell_type": "code",
   "execution_count": 8,
   "metadata": {},
   "outputs": [
    {
     "name": "stdout",
     "output_type": "stream",
     "text": [
      "(5250, 31, 31)\n"
     ]
    }
   ],
   "source": [
    "# get the data using sz, corners and the selected days of data\n",
    "# the fxn extends the days of data and takes each box\n",
    "box_data = box_data(corners,sel_data, sz)\n",
    "print(box_data.shape)"
   ]
  },
  {
   "cell_type": "code",
   "execution_count": 12,
   "metadata": {},
   "outputs": [
    {
     "name": "stdout",
     "output_type": "stream",
     "text": [
      "(5250, 4)\n",
      "[ 45.5  75.5 341.5 371.5] [ 61.   356.25]\n",
      "[ 45.5  75.5 -13.5  16.5] [61.    1.25]\n",
      "[43.5 73.5 -8.5 21.5] [59.    6.25]\n",
      "[43.5 73.5 -8.5 21.5] [59.    6.25]\n",
      "[43.5 73.5 -8.5 21.5] [59.    6.25]\n"
     ]
    },
    {
     "data": {
      "text/plain": [
       "[None, None, None, None, None]"
      ]
     },
     "execution_count": 12,
     "metadata": {},
     "output_type": "execute_result"
    }
   ],
   "source": [
    "# use function i wrote to input extended lat and lon grids and the corner \n",
    "# indices and get the lat/lon coords of the box corners\n",
    "# box_coords are south lat, norther lat, west lon, easter lon\n",
    "# latext & lonext output from box corner fxn, no need to extend arrays again\n",
    "\n",
    "box_coords = box_coords(latext, lonext, corners)\n",
    "print(box_coords.shape)\n",
    "[print(box_coords[x], cents[x]) for x in range(5)]"
   ]
  }
 ],
 "metadata": {
  "kernelspec": {
   "display_name": "base",
   "language": "python",
   "name": "python3"
  },
  "language_info": {
   "codemirror_mode": {
    "name": "ipython",
    "version": 3
   },
   "file_extension": ".py",
   "mimetype": "text/x-python",
   "name": "python",
   "nbconvert_exporter": "python",
   "pygments_lexer": "ipython3",
   "version": "3.9.12"
  },
  "orig_nbformat": 4
 },
 "nbformat": 4,
 "nbformat_minor": 2
}
